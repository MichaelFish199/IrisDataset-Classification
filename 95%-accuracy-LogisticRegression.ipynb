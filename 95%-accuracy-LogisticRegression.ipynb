{
 "cells": [
  {
   "cell_type": "markdown",
   "id": "92110de2",
   "metadata": {},
   "source": [
    "# Logistic Regression\n",
    "\n",
    "In this notebook I'm gonna focus on building Logistic Regresion model with pipeline and searchgrid to predict target from iris_dataset"
   ]
  },
  {
   "cell_type": "code",
   "execution_count": 1,
   "id": "baad37e3",
   "metadata": {},
   "outputs": [],
   "source": [
    "import numpy as np\n",
    "import seaborn as sns\n",
    "\n",
    "from sklearn.datasets import load_iris\n",
    "\n",
    "from sklearn.preprocessing import StandardScaler\n",
    "from sklearn.decomposition import PCA\n",
    "from sklearn.linear_model import LogisticRegression\n",
    "from sklearn.pipeline import Pipeline\n",
    "from sklearn.model_selection import KFold, GridSearchCV, cross_val_score, train_test_split, LeaveOneOut, RepeatedKFold\n",
    "from sklearn.metrics import confusion_matrix, f1_score"
   ]
  },
  {
   "cell_type": "markdown",
   "id": "a0d94b0b",
   "metadata": {},
   "source": [
    "## Loading and spliting the data"
   ]
  },
  {
   "cell_type": "code",
   "execution_count": 18,
   "id": "8a1c1869",
   "metadata": {},
   "outputs": [],
   "source": [
    "iris_dataset = load_iris()\n",
    "\n",
    "X = iris_dataset.data\n",
    "y = iris_dataset.target"
   ]
  },
  {
   "cell_type": "code",
   "execution_count": 19,
   "id": "dd3cfb83",
   "metadata": {},
   "outputs": [],
   "source": [
    "X_train, X_test, y_train, y_test = train_test_split(X, y, shuffle=True, test_size=0.2, random_state=6)"
   ]
  },
  {
   "cell_type": "markdown",
   "id": "03870d73",
   "metadata": {},
   "source": [
    "## Creating pipeline for our model"
   ]
  },
  {
   "cell_type": "code",
   "execution_count": 20,
   "id": "d42f0888",
   "metadata": {},
   "outputs": [],
   "source": [
    "# pipeline\n",
    "pipe = Pipeline([\n",
    "    ('scaler', StandardScaler()),\n",
    "    ('pca', PCA()),\n",
    "    ('log_reg', LogisticRegression())\n",
    "])"
   ]
  },
  {
   "cell_type": "markdown",
   "id": "f5b29702",
   "metadata": {},
   "source": [
    "## Finding best parameters for our model"
   ]
  },
  {
   "cell_type": "code",
   "execution_count": 21,
   "id": "cd25ca59",
   "metadata": {},
   "outputs": [],
   "source": [
    "# K-Folds cross-validator\n",
    "kf = KFold(5, shuffle=True, random_state=1)\n",
    "\n",
    "# parameters of our model\n",
    "parameters = {\"pca__n_components\": list(range(1, X.shape[1]+1, 1)),\n",
    "              \"log_reg__C\": np.logspace(-3,3,7),\n",
    "              \"log_reg__penalty\": [\"l2\"]}\n",
    "\n",
    "grid_search = GridSearchCV(pipe, parameters, cv=kf)\n",
    "\n",
    "grid_search.fit(X, y);"
   ]
  },
  {
   "cell_type": "code",
   "execution_count": 22,
   "id": "8f4d6e61",
   "metadata": {},
   "outputs": [
    {
     "data": {
      "text/plain": [
       "{'log_reg__C': 10.0, 'log_reg__penalty': 'l2', 'pca__n_components': 3}"
      ]
     },
     "execution_count": 22,
     "metadata": {},
     "output_type": "execute_result"
    }
   ],
   "source": [
    "# best parameters for our model\n",
    "grid_search.best_params_"
   ]
  },
  {
   "cell_type": "code",
   "execution_count": 23,
   "id": "cdfc8632",
   "metadata": {},
   "outputs": [
    {
     "data": {
      "text/plain": [
       "0.9733333333333334"
      ]
     },
     "execution_count": 23,
     "metadata": {},
     "output_type": "execute_result"
    }
   ],
   "source": [
    "# best score reached\n",
    "grid_search.best_score_"
   ]
  },
  {
   "cell_type": "markdown",
   "id": "565955af",
   "metadata": {},
   "source": [
    "## Testing our model"
   ]
  },
  {
   "cell_type": "code",
   "execution_count": 24,
   "id": "f68f01e1",
   "metadata": {},
   "outputs": [],
   "source": [
    "best_pipeline = grid_search.best_estimator_"
   ]
  },
  {
   "cell_type": "code",
   "execution_count": 25,
   "id": "ec5f259d",
   "metadata": {},
   "outputs": [],
   "source": [
    "# fitting the model\n",
    "best_pipeline.fit(X_train, y_train);"
   ]
  },
  {
   "cell_type": "code",
   "execution_count": 26,
   "id": "6e851977",
   "metadata": {},
   "outputs": [
    {
     "data": {
      "text/plain": [
       "0.975"
      ]
     },
     "execution_count": 26,
     "metadata": {},
     "output_type": "execute_result"
    }
   ],
   "source": [
    "# Testing on training data\n",
    "best_pipeline.score(X_train, y_train)"
   ]
  },
  {
   "cell_type": "code",
   "execution_count": 27,
   "id": "5bd3ccf8",
   "metadata": {},
   "outputs": [
    {
     "data": {
      "text/plain": [
       "1.0"
      ]
     },
     "execution_count": 27,
     "metadata": {},
     "output_type": "execute_result"
    }
   ],
   "source": [
    "# Testing on testing data\n",
    "best_pipeline.score(X_test, y_test)"
   ]
  },
  {
   "cell_type": "code",
   "execution_count": 28,
   "id": "7bd918dd",
   "metadata": {},
   "outputs": [
    {
     "data": {
      "image/png": "[encoded data removed]",
      "text/plain": [
       "<Figure size 432x288 with 2 Axes>"
      ]
     },
     "metadata": {
      "needs_background": "light"
     },
     "output_type": "display_data"
    }
   ],
   "source": [
    "y_pred = best_pipeline.predict(X_test)\n",
    "\n",
    "# confiusion matrix\n",
    "conf_matrix = confusion_matrix(y_test, y_pred)\n",
    "sns.heatmap(conf_matrix, annot=True, fmt=\"d\");"
   ]
  },
  {
   "cell_type": "code",
   "execution_count": 15,
   "id": "c8111d23",
   "metadata": {},
   "outputs": [
    {
     "name": "stdout",
     "output_type": "stream",
     "text": [
      "overall score on testing data = 1.0\n"
     ]
    }
   ],
   "source": [
    "# checking f1 score of our model\n",
    "score = f1_score(y_test, y_pred, average='weighted') # [None, 'micro', 'macro', 'weighted']\n",
    "\n",
    "print(f\"overall score on testing data = {score}\")"
   ]
  },
  {
   "cell_type": "markdown",
   "id": "fbb9588b",
   "metadata": {},
   "source": [
    "For diffrent random states of the train_test_split the model's accuracy differs between 90% and 100%, so it it not correct way of testing our model"
   ]
  },
  {
   "cell_type": "markdown",
   "id": "1fba4e5c",
   "metadata": {},
   "source": [
    "## Correct accuracy measurements of our model"
   ]
  },
  {
   "cell_type": "code",
   "execution_count": 38,
   "id": "cec0717b",
   "metadata": {},
   "outputs": [
    {
     "data": {
      "text/plain": [
       "0.9533333333333334"
      ]
     },
     "execution_count": 38,
     "metadata": {},
     "output_type": "execute_result"
    }
   ],
   "source": [
    "# 99% of data into training and 1 data point into testing iteratively\n",
    "loo_result = cross_val_score(pipe, X, y, cv=LeaveOneOut())\n",
    "loo_result.mean()"
   ]
  },
  {
   "cell_type": "code",
   "execution_count": 44,
   "id": "3943c4fe",
   "metadata": {},
   "outputs": [
    {
     "data": {
      "text/plain": [
       "0.9553333333333334"
      ]
     },
     "execution_count": 44,
     "metadata": {},
     "output_type": "execute_result"
    }
   ],
   "source": [
    "# KFolds repeated n times\n",
    "rkf_result = cross_val_score(pipe, X, y, cv=RepeatedKFold(n_splits=5, n_repeats=10, random_state=4))\n",
    "rkf_result.mean()"
   ]
  }
 ],
 "metadata": {
  "kernelspec": {
   "display_name": "Python 3 (ipykernel)",
   "language": "python",
   "name": "python3"
  },
  "language_info": {
   "codemirror_mode": {
    "name": "ipython",
    "version": 3
   },
   "file_extension": ".py",
   "mimetype": "text/x-python",
   "name": "python",
   "nbconvert_exporter": "python",
   "pygments_lexer": "ipython3",
   "version": "3.9.12"
  }
 },
 "nbformat": 4,
 "nbformat_minor": 5
}
